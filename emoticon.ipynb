{
 "cells": [
  {
   "cell_type": "code",
   "execution_count": 96,
   "metadata": {
    "collapsed": false
   },
   "outputs": [],
   "source": [
    "db_host = '118.163.94.26'\n",
    "db_user = 'joekaojoekao'\n",
    "db_pass = 'iloveinalin'\n",
    "db_name = 'facemood'\n",
    "import MySQLdb\n",
    "db = MySQLdb.connect(host=db_host, user=db_user, passwd=db_pass, db=db_name, charset=\"utf8\")\n",
    "cursor = db.cursor()\n",
    "sql = \"select id, name from types\"\n",
    "cursor.execute(sql)\n",
    "result = cursor.fetchall()\n",
    "dict_type = {}\n",
    "for record in result:\n",
    "    type_id = int(record[0])\n",
    "    name = record[1]\n",
    "    dict_type[type_id] = name\n",
    "\n",
    "#print dict_type\n",
    "    \n",
    "cursor = db.cursor()\n",
    "sql = \"select word, type_id, likes, count(distinct word) from words group by word\"\n",
    "cursor.execute(sql)\n",
    "result = cursor.fetchall()\n",
    "from collections import defaultdict\n",
    "dict_emo = defaultdict(list)\n",
    "for record in result:\n",
    "    word = record[0]\n",
    "    type_id = int(record[1])\n",
    "    likes = int(record[2])\n",
    "    #print word, type_id\n",
    "    dict_emo[dict_type[type_id]].append((word,likes))\n",
    "#import json\n",
    "\n",
    "\n",
    "\n",
    "\n"
   ]
  },
  {
   "cell_type": "code",
   "execution_count": null,
   "metadata": {
    "collapsed": true
   },
   "outputs": [],
   "source": []
  },
  {
   "cell_type": "code",
   "execution_count": null,
   "metadata": {
    "collapsed": true
   },
   "outputs": [],
   "source": []
  },
  {
   "cell_type": "code",
   "execution_count": 97,
   "metadata": {
    "collapsed": false
   },
   "outputs": [],
   "source": [
    "#print dict_emo.values()[0]\n",
    "sorted_emo = {}\n",
    "from operator import itemgetter\n",
    "#data.sort(key=itemgetter(1))\n",
    "for k in dict_emo.keys():\n",
    "    sorted_emo[k] = [x[0] for x in sorted(dict_emo[k], key=itemgetter(1), reverse=True)]\n",
    "#sorted_emo = sorted(dict_emo, key=itemgetter(1))\n",
    "import json\n",
    "with open('emoticon.txt', 'wb') as fout:\n",
    "    json.dump(sorted_emo, fout)\n",
    "\n",
    "    \n"
   ]
  },
  {
   "cell_type": "code",
   "execution_count": 98,
   "metadata": {
    "collapsed": false
   },
   "outputs": [
    {
     "name": "stdout",
     "output_type": "stream",
     "text": [
      "60\n",
      "1\n",
      "1\n",
      "4\n",
      "22\n",
      "1\n",
      "23\n",
      "6\n",
      "6\n",
      "4\n",
      "1\n",
      "1\n",
      "3\n",
      "1\n",
      "7\n",
      "1\n",
      "2\n",
      "1\n",
      "2\n",
      "26\n",
      "7\n",
      "1\n",
      "10\n",
      "6\n",
      "1\n",
      "28\n",
      "1\n",
      "1\n",
      "8\n",
      "2\n",
      "1\n",
      "2\n",
      "1\n",
      "171\n",
      "1\n",
      "23\n",
      "2\n",
      "1\n",
      "49\n",
      "1\n",
      "21\n",
      "1\n",
      "2\n",
      "1\n",
      "2\n",
      "1\n",
      "4\n"
     ]
    }
   ],
   "source": [
    "for v in sorted_emo.values():\n",
    "    print len(v)"
   ]
  },
  {
   "cell_type": "code",
   "execution_count": 82,
   "metadata": {
    "collapsed": false
   },
   "outputs": [
    {
     "ename": "IndexError",
     "evalue": "list index out of range",
     "output_type": "error",
     "traceback": [
      "\u001b[1;31m---------------------------------------------------------------------------\u001b[0m",
      "\u001b[1;31mIndexError\u001b[0m                                Traceback (most recent call last)",
      "\u001b[1;32m<ipython-input-82-817a29ecf082>\u001b[0m in \u001b[0;36m<module>\u001b[1;34m()\u001b[0m\n\u001b[0;32m     13\u001b[0m                \u001b[0mb\u001b[0m\u001b[1;33m=\u001b[0m\u001b[0mRangeWidget\u001b[0m\u001b[1;33m(\u001b[0m\u001b[1;36m0\u001b[0m\u001b[1;33m,\u001b[0m \u001b[1;36m10\u001b[0m\u001b[1;33m)\u001b[0m\u001b[1;33m,\u001b[0m\u001b[1;33m\u001b[0m\u001b[0m\n\u001b[0;32m     14\u001b[0m                \u001b[0mop\u001b[0m\u001b[1;33m=\u001b[0m\u001b[0mRadioWidget\u001b[0m\u001b[1;33m(\u001b[0m\u001b[1;33m[\u001b[0m\u001b[1;34m\"s\"\u001b[0m\u001b[1;33m,\u001b[0m \u001b[1;34m\"gg\"\u001b[0m\u001b[1;33m]\u001b[0m\u001b[1;33m)\u001b[0m\u001b[1;33m,\u001b[0m\u001b[1;33m\u001b[0m\u001b[0m\n\u001b[1;32m---> 15\u001b[1;33m                fruit=DropDownWidget([]))\n\u001b[0m\u001b[0;32m     16\u001b[0m \u001b[1;33m\u001b[0m\u001b[0m\n\u001b[0;32m     17\u001b[0m \u001b[1;31m# droplist = [x.decode('utf-8','ignore') for x in sorted_emo.keys()]\u001b[0m\u001b[1;33m\u001b[0m\u001b[1;33m\u001b[0m\u001b[0m\n",
      "\u001b[1;32m/usr/local/lib/python2.7/site-packages/ipywidgets/widgets.pyc\u001b[0m in \u001b[0;36m__init__\u001b[1;34m(self, values, name, labels, default, divclass, delimiter)\u001b[0m\n\u001b[0;32m     89\u001b[0m \u001b[1;33m\u001b[0m\u001b[0m\n\u001b[0;32m     90\u001b[0m         \u001b[1;32mif\u001b[0m \u001b[0mdefault\u001b[0m \u001b[1;32mis\u001b[0m \u001b[0mNone\u001b[0m\u001b[1;33m:\u001b[0m\u001b[1;33m\u001b[0m\u001b[0m\n\u001b[1;32m---> 91\u001b[1;33m             \u001b[0mself\u001b[0m\u001b[1;33m.\u001b[0m\u001b[0mdefault\u001b[0m \u001b[1;33m=\u001b[0m \u001b[0mvalues\u001b[0m\u001b[1;33m[\u001b[0m\u001b[1;36m0\u001b[0m\u001b[1;33m]\u001b[0m\u001b[1;33m\u001b[0m\u001b[0m\n\u001b[0m\u001b[0;32m     92\u001b[0m         \u001b[1;32melif\u001b[0m \u001b[0mdefault\u001b[0m \u001b[1;32min\u001b[0m \u001b[0mvalues\u001b[0m\u001b[1;33m:\u001b[0m\u001b[1;33m\u001b[0m\u001b[0m\n\u001b[0;32m     93\u001b[0m             \u001b[0mself\u001b[0m\u001b[1;33m.\u001b[0m\u001b[0mdefault\u001b[0m \u001b[1;33m=\u001b[0m \u001b[0mdefault\u001b[0m\u001b[1;33m\u001b[0m\u001b[0m\n",
      "\u001b[1;31mIndexError\u001b[0m: list index out of range"
     ]
    }
   ],
   "source": [
    "from ipywidgets import StaticInteract, RangeWidget, RadioWidget, DropDownWidget\n",
    "\n",
    "def operation(a, b, op, fruit):\n",
    "    if op == \"multiply\":\n",
    "        return \"{0} * {1} = {2} {3}\".format(a, b, a * b, fruit)\n",
    "    elif op == \"add\":\n",
    "        return \"{0} + {1} = {2} {3}\".format(a, b, a + b, fruit)\n",
    "    else:\n",
    "        raise ValueError\n",
    "\n",
    "StaticInteract(operation,\n",
    "               a=RangeWidget(0, 10),\n",
    "               b=RangeWidget(0, 10),\n",
    "               op=RadioWidget([\"s\", \"gg\"]),\n",
    "               fruit=DropDownWidget([]))\n",
    "        \n",
    "# droplist = [x.decode('utf-8','ignore') for x in sorted_emo.keys()]\n",
    "\n",
    "\n",
    "\n",
    "# StaticInteract(operation,\n",
    "#                a=RangeWidget(0, 10),\n",
    "#                b=RangeWidget(0, 10),\n",
    "#                op=RadioWidget([\"multiply\", \"add\"]),\n",
    "#                fruit=DropDownWidget(droplist)\n",
    "#                )"
   ]
  },
  {
   "cell_type": "code",
   "execution_count": 114,
   "metadata": {
    "collapsed": false
   },
   "outputs": [
    {
     "name": "stdout",
     "output_type": "stream",
     "text": [
      "MOW\n"
     ]
    }
   ],
   "source": [
    "from IPython.html import widgets\n",
    "from IPython.display import display\n",
    "\n",
    "geo={'USA':['CHI','NYC'],'Russia':['MOW','LED']}\n",
    "\n",
    "def print_city(city):\n",
    "    print city\n",
    "\n",
    "def select_city(country):\n",
    "    cityW.options = geo[country]\n",
    "\n",
    "\n",
    "scW = widgets.Select(options=geo.keys())\n",
    "init = scW.value\n",
    "cityW = widgets.Dropdown(options=geo[init])\n",
    "j = widgets.interactive(print_city, city=cityW)\n",
    "i = widgets.interactive(select_city, country=scW)\n",
    "display(i)\n",
    "display(j)"
   ]
  },
  {
   "cell_type": "code",
   "execution_count": 99,
   "metadata": {
    "collapsed": false
   },
   "outputs": [
    {
     "name": "stdout",
     "output_type": "stream",
     "text": [
      "02\n"
     ]
    }
   ],
   "source": [
    "from IPython.html.widgets import interact\n",
    "def f(x):\n",
    "    print x\n",
    "interact(f, x={u\"台北市\":\"02\", u\"台中市\":\"04\"});"
   ]
  },
  {
   "cell_type": "code",
   "execution_count": 62,
   "metadata": {
    "collapsed": false
   },
   "outputs": [
    {
     "data": {
      "text/plain": [
       "32512"
      ]
     },
     "execution_count": 62,
     "metadata": {},
     "output_type": "execute_result"
    }
   ],
   "source": [
    "import os \n",
    "os.system(\"echo 'Hello World!' | pbcopy\")"
   ]
  }
 ],
 "metadata": {
  "kernelspec": {
   "display_name": "Python 2",
   "language": "python",
   "name": "python2"
  },
  "language_info": {
   "codemirror_mode": {
    "name": "ipython",
    "version": 2
   },
   "file_extension": ".py",
   "mimetype": "text/x-python",
   "name": "python",
   "nbconvert_exporter": "python",
   "pygments_lexer": "ipython2",
   "version": "2.7.8"
  }
 },
 "nbformat": 4,
 "nbformat_minor": 0
}
