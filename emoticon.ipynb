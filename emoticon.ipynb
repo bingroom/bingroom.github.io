{
 "cells": [
  {
   "cell_type": "code",
   "execution_count": 57,
   "metadata": {
    "collapsed": false
   },
   "outputs": [],
   "source": [
    "db_host = '118.163.94.26'\n",
    "db_user = 'joekaojoekao'\n",
    "db_pass = 'iloveinalin'\n",
    "db_name = 'facemood'\n",
    "import MySQLdb\n",
    "db = MySQLdb.connect(host=db_host, user=db_user, passwd=db_pass, db=db_name, charset=\"utf8\")\n",
    "cursor = db.cursor()\n",
    "sql = \"select id, name from types\"\n",
    "cursor.execute(sql)\n",
    "result = cursor.fetchall()\n",
    "dict_type = {}\n",
    "for record in result:\n",
    "    type_id = int(record[0])\n",
    "    name = record[1]\n",
    "    dict_type[type_id] = name\n",
    "\n",
    "#print dict_type\n",
    "    \n",
    "cursor = db.cursor()\n",
    "sql = \"select word, type_id, likes, count(distinct word) from words group by word\"\n",
    "cursor.execute(sql)\n",
    "result = cursor.fetchall()\n",
    "from collections import defaultdict\n",
    "dict_emo = defaultdict(list)\n",
    "for record in result:\n",
    "    word = record[0]\n",
    "    type_id = int(record[1])\n",
    "    likes = int(record[2])\n",
    "    #print word, type_id\n",
    "    dict_emo[dict_type[type_id]].append((word,likes))\n",
    "#import json\n",
    "\n",
    "\n",
    "\n",
    "\n"
   ]
  },
  {
   "cell_type": "code",
   "execution_count": 58,
   "metadata": {
    "collapsed": false
   },
   "outputs": [],
   "source": [
    "#print dict_emo.values()[0]\n",
    "sorted_emo = {}\n",
    "from operator import itemgetter\n",
    "#data.sort(key=itemgetter(1))\n",
    "for k in dict_emo.keys():\n",
    "    sorted_emo[k] = [x[0] for x in sorted(dict_emo[k], key=itemgetter(1), reverse=True)]\n",
    "#sorted_emo = sorted(dict_emo, key=itemgetter(1))\n",
    "import json\n",
    "with open('emoticon.txt', 'wb') as fout:\n",
    "    json.dump(sorted_emo, fout)\n",
    "\n",
    "    \n"
   ]
  },
  {
   "cell_type": "code",
   "execution_count": 64,
   "metadata": {
    "collapsed": false
   },
   "outputs": [
    {
     "name": "stdout",
     "output_type": "stream",
     "text": [
      "60\n",
      "1\n",
      "1\n",
      "4\n",
      "22\n",
      "1\n",
      "23\n",
      "6\n",
      "6\n",
      "4\n",
      "1\n",
      "1\n",
      "3\n",
      "1\n",
      "7\n",
      "1\n",
      "2\n",
      "1\n",
      "2\n",
      "26\n",
      "7\n",
      "1\n",
      "10\n",
      "6\n",
      "1\n",
      "28\n",
      "1\n",
      "1\n",
      "8\n",
      "2\n",
      "1\n",
      "2\n",
      "1\n",
      "171\n",
      "1\n",
      "23\n",
      "2\n",
      "1\n",
      "49\n",
      "1\n",
      "21\n",
      "1\n",
      "2\n",
      "1\n",
      "2\n",
      "1\n",
      "4\n"
     ]
    }
   ],
   "source": [
    "for v in sorted_emo.values():\n",
    "    print len(v)"
   ]
  },
  {
   "cell_type": "code",
   "execution_count": 62,
   "metadata": {
    "collapsed": false
   },
   "outputs": [
    {
     "data": {
      "text/plain": [
       "32512"
      ]
     },
     "execution_count": 62,
     "metadata": {},
     "output_type": "execute_result"
    }
   ],
   "source": [
    "import os \n",
    "os.system(\"echo 'Hello World!' | pbcopy\")"
   ]
  }
 ],
 "metadata": {
  "kernelspec": {
   "display_name": "Python 2",
   "language": "python",
   "name": "python2"
  },
  "language_info": {
   "codemirror_mode": {
    "name": "ipython",
    "version": 2
   },
   "file_extension": ".py",
   "mimetype": "text/x-python",
   "name": "python",
   "nbconvert_exporter": "python",
   "pygments_lexer": "ipython2",
   "version": "2.7.8"
  }
 },
 "nbformat": 4,
 "nbformat_minor": 0
}
