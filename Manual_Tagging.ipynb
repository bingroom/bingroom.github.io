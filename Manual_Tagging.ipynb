{
 "cells": [
  {
   "cell_type": "code",
   "execution_count": 13,
   "metadata": {
    "extensions": {
     "jupyter_dashboards": {
      "version": 1,
      "views": {
       "grid_default": {
        "col": 0,
        "height": 76,
        "hidden": false,
        "row": 0,
        "width": 4
       },
       "report_default": {}
      }
     }
    },
    "scrolled": false
   },
   "outputs": [
    {
     "data": {
      "application/vnd.jupyter.widget-view+json": {
       "model_id": "f36de93aedd247598a695c1be72f0103",
       "version_major": 2,
       "version_minor": 0
      },
      "text/html": [
       "<p>Failed to display Jupyter Widget of type <code>Button</code>.</p>\n",
       "<p>\n",
       "  If you're reading this message in Jupyter Notebook or JupyterLab, it may mean\n",
       "  that the widgets JavaScript is still loading. If this message persists, it\n",
       "  likely means that the widgets JavaScript library is either not installed or\n",
       "  not enabled. See the <a href=\"https://ipywidgets.readthedocs.io/en/stable/user_install.html\">Jupyter\n",
       "  Widgets Documentation</a> for setup instructions.\n",
       "</p>\n",
       "<p>\n",
       "  If you're reading this message in another notebook frontend (for example, a static\n",
       "  rendering on GitHub or <a href=\"https://nbviewer.jupyter.org/\">NBViewer</a>),\n",
       "  it may mean that your frontend doesn't currently support widgets.\n",
       "</p>\n"
      ],
      "text/plain": [
       "Button(description=u'Update', style=ButtonStyle())"
      ]
     },
     "metadata": {},
     "output_type": "display_data"
    },
    {
     "data": {
      "application/vnd.jupyter.widget-view+json": {
       "model_id": "84eff9c721eb4d93aaca058b2fd88b15",
       "version_major": 2,
       "version_minor": 0
      },
      "text/html": [
       "<p>Failed to display Jupyter Widget of type <code>VBox</code>.</p>\n",
       "<p>\n",
       "  If you're reading this message in Jupyter Notebook or JupyterLab, it may mean\n",
       "  that the widgets JavaScript is still loading. If this message persists, it\n",
       "  likely means that the widgets JavaScript library is either not installed or\n",
       "  not enabled. See the <a href=\"https://ipywidgets.readthedocs.io/en/stable/user_install.html\">Jupyter\n",
       "  Widgets Documentation</a> for setup instructions.\n",
       "</p>\n",
       "<p>\n",
       "  If you're reading this message in another notebook frontend (for example, a static\n",
       "  rendering on GitHub or <a href=\"https://nbviewer.jupyter.org/\">NBViewer</a>),\n",
       "  it may mean that your frontend doesn't currently support widgets.\n",
       "</p>\n"
      ],
      "text/plain": [
       "VBox(children=(HTML(value=u'---------------------------------------------'), HTML(value=u'\\u5750\\u5728\\u96f2\\u7aef\\u4e0a\\u5403\\u5b89\\u683c\\u65af\\u725b\\uff01\\u53f0\\u5317\\u6700\\u9ad8\\u7684\\u300c\\u5403\\u5230\\u98fd\\u300d\\u9910\\u5ef3\\u958b\\u5e55 <a href=\"http://travel.ettoday.net/article/739230.htm\" target=\"_blank\">link</a>'), Text(value=u'', description=u'\\u81ea\\u8a02tag:')))"
      ]
     },
     "metadata": {},
     "output_type": "display_data"
    },
    {
     "data": {
      "application/vnd.jupyter.widget-view+json": {
       "model_id": "44c16ae2b64b41a2a4d1fe4aba4e304e",
       "version_major": 2,
       "version_minor": 0
      },
      "text/html": [
       "<p>Failed to display Jupyter Widget of type <code>VBox</code>.</p>\n",
       "<p>\n",
       "  If you're reading this message in Jupyter Notebook or JupyterLab, it may mean\n",
       "  that the widgets JavaScript is still loading. If this message persists, it\n",
       "  likely means that the widgets JavaScript library is either not installed or\n",
       "  not enabled. See the <a href=\"https://ipywidgets.readthedocs.io/en/stable/user_install.html\">Jupyter\n",
       "  Widgets Documentation</a> for setup instructions.\n",
       "</p>\n",
       "<p>\n",
       "  If you're reading this message in another notebook frontend (for example, a static\n",
       "  rendering on GitHub or <a href=\"https://nbviewer.jupyter.org/\">NBViewer</a>),\n",
       "  it may mean that your frontend doesn't currently support widgets.\n",
       "</p>\n"
      ],
      "text/plain": [
       "VBox(children=(Checkbox(value=True, description=u'\\u53f0\\u5317'), Checkbox(value=True, description=u'\\u63d0\\u4f9b'), Checkbox(value=True, description=u'\\u677e\\u5c71'), Checkbox(value=True, description=u'\\u610f\\u820d'), Checkbox(value=True, description=u'\\u9152\\u5e97'), Checkbox(value=True, description=u'\\u9910\\u5ef3'), Checkbox(value=True, description=u'\\u9078\\u64c7'), Checkbox(value=True, description=u'Que'), Checkbox(value=True, description=u'\\u81ea\\u52a9\\u9910'), Checkbox(value=True, description=u'\\u76ce\\u53f8')))"
      ]
     },
     "metadata": {},
     "output_type": "display_data"
    },
    {
     "data": {
      "application/vnd.jupyter.widget-view+json": {
       "model_id": "e51f85d46a344f8b81356739a134fbb4",
       "version_major": 2,
       "version_minor": 0
      },
      "text/html": [
       "<p>Failed to display Jupyter Widget of type <code>VBox</code>.</p>\n",
       "<p>\n",
       "  If you're reading this message in Jupyter Notebook or JupyterLab, it may mean\n",
       "  that the widgets JavaScript is still loading. If this message persists, it\n",
       "  likely means that the widgets JavaScript library is either not installed or\n",
       "  not enabled. See the <a href=\"https://ipywidgets.readthedocs.io/en/stable/user_install.html\">Jupyter\n",
       "  Widgets Documentation</a> for setup instructions.\n",
       "</p>\n",
       "<p>\n",
       "  If you're reading this message in another notebook frontend (for example, a static\n",
       "  rendering on GitHub or <a href=\"https://nbviewer.jupyter.org/\">NBViewer</a>),\n",
       "  it may mean that your frontend doesn't currently support widgets.\n",
       "</p>\n"
      ],
      "text/plain": [
       "VBox(children=(HTML(value=u'---------------------------------------------'), HTML(value=u'\\u611b\\u5b78\\u4eba...\\u4e2d\\u570b\\u4eba\\u5fae\\u535a\\u767c\\u8d77\\u300c\\u5411\\u53f0\\u7063\\u9053\\u6b49\\u300d\\u5927\\u8cfd\\u56de\\u64ca <a href=\"http://news.ltn.com.tw/news/world/breakingnews/1768620\" target=\"_blank\">link</a>'), Text(value=u'', description=u'\\u81ea\\u8a02tag:')))"
      ]
     },
     "metadata": {},
     "output_type": "display_data"
    },
    {
     "data": {
      "application/vnd.jupyter.widget-view+json": {
       "model_id": "ecdc9248e7524a8cb68f3468ddafad02",
       "version_major": 2,
       "version_minor": 0
      },
      "text/html": [
       "<p>Failed to display Jupyter Widget of type <code>VBox</code>.</p>\n",
       "<p>\n",
       "  If you're reading this message in Jupyter Notebook or JupyterLab, it may mean\n",
       "  that the widgets JavaScript is still loading. If this message persists, it\n",
       "  likely means that the widgets JavaScript library is either not installed or\n",
       "  not enabled. See the <a href=\"https://ipywidgets.readthedocs.io/en/stable/user_install.html\">Jupyter\n",
       "  Widgets Documentation</a> for setup instructions.\n",
       "</p>\n",
       "<p>\n",
       "  If you're reading this message in another notebook frontend (for example, a static\n",
       "  rendering on GitHub or <a href=\"https://nbviewer.jupyter.org/\">NBViewer</a>),\n",
       "  it may mean that your frontend doesn't currently support widgets.\n",
       "</p>\n"
      ],
      "text/plain": [
       "VBox(children=(Checkbox(value=True, description=u'\\u4e2d\\u570b'), Checkbox(value=True, description=u'\\u53f0\\u7063'), Checkbox(value=True, description=u'\\u6211\\u5011'), Checkbox(value=True, description=u'\\u7db2\\u53cb'), Checkbox(value=True, description=u'\\u5fae\\u535a'), Checkbox(value=True, description=u'\\u767c\\u8d77'), Checkbox(value=True, description=u'\\u7b2c\\u4e00\\u5c46'), Checkbox(value=True, description=u'\\u6b49\\u5927\\u8cfd'), Checkbox(value=True, description=u'\\u4e0d\\u8d77'), Checkbox(value=True, description=u'GDP')))"
      ]
     },
     "metadata": {},
     "output_type": "display_data"
    },
    {
     "data": {
      "application/vnd.jupyter.widget-view+json": {
       "model_id": "28b72244e8e04379aefcc32c2f1363de",
       "version_major": 2,
       "version_minor": 0
      },
      "text/html": [
       "<p>Failed to display Jupyter Widget of type <code>VBox</code>.</p>\n",
       "<p>\n",
       "  If you're reading this message in Jupyter Notebook or JupyterLab, it may mean\n",
       "  that the widgets JavaScript is still loading. If this message persists, it\n",
       "  likely means that the widgets JavaScript library is either not installed or\n",
       "  not enabled. See the <a href=\"https://ipywidgets.readthedocs.io/en/stable/user_install.html\">Jupyter\n",
       "  Widgets Documentation</a> for setup instructions.\n",
       "</p>\n",
       "<p>\n",
       "  If you're reading this message in another notebook frontend (for example, a static\n",
       "  rendering on GitHub or <a href=\"https://nbviewer.jupyter.org/\">NBViewer</a>),\n",
       "  it may mean that your frontend doesn't currently support widgets.\n",
       "</p>\n"
      ],
      "text/plain": [
       "VBox(children=(HTML(value=u'---------------------------------------------'), HTML(value=u'\\u6731\\u7acb\\u502b\\u62b1\\u6028 \\u98b1\\u98a8\\u8b93\\u4ed6\\u7121\\u6cd5\\u626e\\u6f14\\u597d\\u7238\\u7238 <a href=\"http://newtalk.tw/news/view/2016-07-20/75430\" target=\"_blank\">link</a>'), Text(value=u'', description=u'\\u81ea\\u8a02tag:')))"
      ]
     },
     "metadata": {},
     "output_type": "display_data"
    },
    {
     "data": {
      "application/vnd.jupyter.widget-view+json": {
       "model_id": "69e5f34eb8884567a52a3dd0380c9813",
       "version_major": 2,
       "version_minor": 0
      },
      "text/html": [
       "<p>Failed to display Jupyter Widget of type <code>VBox</code>.</p>\n",
       "<p>\n",
       "  If you're reading this message in Jupyter Notebook or JupyterLab, it may mean\n",
       "  that the widgets JavaScript is still loading. If this message persists, it\n",
       "  likely means that the widgets JavaScript library is either not installed or\n",
       "  not enabled. See the <a href=\"https://ipywidgets.readthedocs.io/en/stable/user_install.html\">Jupyter\n",
       "  Widgets Documentation</a> for setup instructions.\n",
       "</p>\n",
       "<p>\n",
       "  If you're reading this message in another notebook frontend (for example, a static\n",
       "  rendering on GitHub or <a href=\"https://nbviewer.jupyter.org/\">NBViewer</a>),\n",
       "  it may mean that your frontend doesn't currently support widgets.\n",
       "</p>\n"
      ],
      "text/plain": [
       "VBox(children=(Checkbox(value=True, description=u'\\u89d2\\u8272'), Checkbox(value=True, description=u'\\u5e73\\u7b49'), Checkbox(value=True, description=u'\\u7238\\u7238'), Checkbox(value=True, description=u'\\u5e02\\u5e9c'), Checkbox(value=True, description=u'\\u63d0\\u524d'), Checkbox(value=True, description=u'\\u6731\\u7acb\\u502b'), Checkbox(value=True, description=u'\\u98b1\\u98a8'), Checkbox(value=True, description=u'\\u9700\\u8981'), Checkbox(value=True, description=u'\\u5fc5\\u9808'), Checkbox(value=True, description=u'\\u5fb7\\u570b')))"
      ]
     },
     "metadata": {},
     "output_type": "display_data"
    },
    {
     "data": {
      "application/vnd.jupyter.widget-view+json": {
       "model_id": "95f5353a69b540e1ad4d9a6b5d65c04d",
       "version_major": 2,
       "version_minor": 0
      },
      "text/html": [
       "<p>Failed to display Jupyter Widget of type <code>VBox</code>.</p>\n",
       "<p>\n",
       "  If you're reading this message in Jupyter Notebook or JupyterLab, it may mean\n",
       "  that the widgets JavaScript is still loading. If this message persists, it\n",
       "  likely means that the widgets JavaScript library is either not installed or\n",
       "  not enabled. See the <a href=\"https://ipywidgets.readthedocs.io/en/stable/user_install.html\">Jupyter\n",
       "  Widgets Documentation</a> for setup instructions.\n",
       "</p>\n",
       "<p>\n",
       "  If you're reading this message in another notebook frontend (for example, a static\n",
       "  rendering on GitHub or <a href=\"https://nbviewer.jupyter.org/\">NBViewer</a>),\n",
       "  it may mean that your frontend doesn't currently support widgets.\n",
       "</p>\n"
      ],
      "text/plain": [
       "VBox(children=(HTML(value=u'---------------------------------------------'), HTML(value=u'\\u985b\\u8986\\u8fb2\\u696d\\u523b\\u677f\\u5370\\u8c61\\uff01\\u4ed6\\u9760\\u81ea\\u5b78\\u7a2e\\u51fa\\u852c\\u679c\\u50f9\\u503c <a href=\"http://www.gvm.com.tw/webonly_content_10217.html\" target=\"_blank\">link</a>'), Text(value=u'', description=u'\\u81ea\\u8a02tag:')))"
      ]
     },
     "metadata": {},
     "output_type": "display_data"
    },
    {
     "data": {
      "application/vnd.jupyter.widget-view+json": {
       "model_id": "b47593480ad4492ab7da1a4726c6d709",
       "version_major": 2,
       "version_minor": 0
      },
      "text/html": [
       "<p>Failed to display Jupyter Widget of type <code>VBox</code>.</p>\n",
       "<p>\n",
       "  If you're reading this message in Jupyter Notebook or JupyterLab, it may mean\n",
       "  that the widgets JavaScript is still loading. If this message persists, it\n",
       "  likely means that the widgets JavaScript library is either not installed or\n",
       "  not enabled. See the <a href=\"https://ipywidgets.readthedocs.io/en/stable/user_install.html\">Jupyter\n",
       "  Widgets Documentation</a> for setup instructions.\n",
       "</p>\n",
       "<p>\n",
       "  If you're reading this message in another notebook frontend (for example, a static\n",
       "  rendering on GitHub or <a href=\"https://nbviewer.jupyter.org/\">NBViewer</a>),\n",
       "  it may mean that your frontend doesn't currently support widgets.\n",
       "</p>\n"
      ],
      "text/plain": [
       "VBox(children=(Checkbox(value=True, description=u'\\u9060\\u898b'), Checkbox(value=True, description=u'\\u96dc\\u8a8c'), Checkbox(value=True, description=u'...'), Checkbox(value=True, description=u'\\u6587\\u7ae0'), Checkbox(value=True, description=u'\\u6703\\u54e1'), Checkbox(value=True, description=u'\\u8a02\\u95b1'), Checkbox(value=True, description=u'\\u670d\\u52d9'), Checkbox(value=True, description=u'\\u5065\\u5eb7'), Checkbox(value=True, description=u'\\u7522\\u696d'), Checkbox(value=True, description=u'\\u53f0\\u7063')))"
      ]
     },
     "metadata": {},
     "output_type": "display_data"
    },
    {
     "data": {
      "application/vnd.jupyter.widget-view+json": {
       "model_id": "f0d64e7efe814e419d8006a29d26a813",
       "version_major": 2,
       "version_minor": 0
      },
      "text/html": [
       "<p>Failed to display Jupyter Widget of type <code>VBox</code>.</p>\n",
       "<p>\n",
       "  If you're reading this message in Jupyter Notebook or JupyterLab, it may mean\n",
       "  that the widgets JavaScript is still loading. If this message persists, it\n",
       "  likely means that the widgets JavaScript library is either not installed or\n",
       "  not enabled. See the <a href=\"https://ipywidgets.readthedocs.io/en/stable/user_install.html\">Jupyter\n",
       "  Widgets Documentation</a> for setup instructions.\n",
       "</p>\n",
       "<p>\n",
       "  If you're reading this message in another notebook frontend (for example, a static\n",
       "  rendering on GitHub or <a href=\"https://nbviewer.jupyter.org/\">NBViewer</a>),\n",
       "  it may mean that your frontend doesn't currently support widgets.\n",
       "</p>\n"
      ],
      "text/plain": [
       "VBox(children=(HTML(value=u'---------------------------------------------'), HTML(value=u'\\u98a8\\u8a55\\uff1a\\u53c8\\u662f\\u904a\\u89bd\\u8eca\\uff01\\u53f0\\u7063\\u4eba\\u9084\\u6562\\u8b1b\\u54c1\\u8cea\\u55ce\\uff1f <a href=\"https://tw.news.yahoo.com/%E9%A2%A8%E8%A9%95-%E5%8F%88%E6%98%AF%E9%81%8A%E8%A6%BD%E8%BB%8A-%E5%8F%B0%E7%81%A3%E4%BA%BA%E9%82%84%E6%95%A2%E8%AC%9B%E5%93%81%E8%B3%AA%E5%97%8E-000000560.html\" target=\"_blank\">link</a>'), Text(value=u'', description=u'\\u81ea\\u8a02tag:')))"
      ]
     },
     "metadata": {},
     "output_type": "display_data"
    },
    {
     "data": {
      "application/vnd.jupyter.widget-view+json": {
       "model_id": "c413b577a71b470482b3b0232905101f",
       "version_major": 2,
       "version_minor": 0
      },
      "text/html": [
       "<p>Failed to display Jupyter Widget of type <code>VBox</code>.</p>\n",
       "<p>\n",
       "  If you're reading this message in Jupyter Notebook or JupyterLab, it may mean\n",
       "  that the widgets JavaScript is still loading. If this message persists, it\n",
       "  likely means that the widgets JavaScript library is either not installed or\n",
       "  not enabled. See the <a href=\"https://ipywidgets.readthedocs.io/en/stable/user_install.html\">Jupyter\n",
       "  Widgets Documentation</a> for setup instructions.\n",
       "</p>\n",
       "<p>\n",
       "  If you're reading this message in another notebook frontend (for example, a static\n",
       "  rendering on GitHub or <a href=\"https://nbviewer.jupyter.org/\">NBViewer</a>),\n",
       "  it may mean that your frontend doesn't currently support widgets.\n",
       "</p>\n"
      ],
      "text/plain": [
       "VBox(children=(Checkbox(value=True, description=u'\\u904a\\u89bd\\u8eca'), Checkbox(value=True, description=u'\\u696d\\u8005'), Checkbox(value=True, description=u'\\u53f0\\u7063'), Checkbox(value=True, description=u'\\u9678\\u5ba2'), Checkbox(value=True, description=u'\\u5169\\u5cb8'), Checkbox(value=True, description=u'\\u5b89\\u5168'), Checkbox(value=True, description=u'\\u65c5\\u904a'), Checkbox(value=True, description=u'\\u4ea4\\u6d41'), Checkbox(value=True, description=u'\\u89c0\\u5149'), Checkbox(value=True, description=u'\\u53f0\\u7063\\u4eba')))"
      ]
     },
     "metadata": {},
     "output_type": "display_data"
    }
   ],
   "source": [
    "from ipywidgets import widgets\n",
    "from IPython.display import clear_output\n",
    "from IPython.display import display\n",
    "from IPython.display import HTML\n",
    "import json\n",
    "import pandas as pd\n",
    "pd.set_option('display.max_colwidth', -1)\n",
    "import jieba\n",
    "import jieba.analyse\n",
    "import logging\n",
    "jieba_tracer = logging.getLogger('jieba')\n",
    "jieba_tracer.disabled = True\n",
    "jieba.set_dictionary('./config/google_dic.dic')\n",
    "jieba.analyse.set_stop_words('./config/merged_stopword.txt')\n",
    "from collections import Counter\n",
    "from collections import OrderedDict\n",
    "\n",
    "\n",
    "def word_seg(content, top_K):\n",
    "    seg_list = list(jieba.cut(content, cut_all=False))\n",
    "    c = Counter(seg_list)\n",
    "    new_c = {k: v for k, v in c.items() if len(k) > 1 and v is not 1}\n",
    "    new_sc = OrderedDict(sorted(dict(new_c).items(), key=lambda t: t[1], reverse=True))\n",
    "    if top_K > len(new_sc):\n",
    "        top_K = len(new_sc)\n",
    "    words = [k for k in new_sc.keys()[:top_K]]\n",
    "    return words\n",
    "\n",
    "with open('news_data.json', 'rb') as fin:\n",
    "    result = json.load(fin)\n",
    "\n",
    "news_list = []\n",
    "news_dict = {}\n",
    "for row in result:\n",
    "    d = {}\n",
    "    d[u'id'] = row['id']\n",
    "    d[u'來源'] = row['from_name']\n",
    "    d[u'標題'] = row['title']\n",
    "    d[u'內容'] = row['content']\n",
    "    d[u'網址'] = row['url']\n",
    "    d[u'類型'] = row['type']\n",
    "    news_list.append(d)\n",
    "    news_dict[row['id']] = d\n",
    "\n",
    "    \n",
    "def update_chk_list(x):\n",
    "    for tag in c_tags:\n",
    "        news_id = tags_map[tag.model_id]['id']\n",
    "        custom_tags[news_id] = [x for x in tag.value.split(',')]\n",
    "            \n",
    "        for chk in chk_map[news_id]:\n",
    "            if chk.value == False:\n",
    "                chk_map[news_id].remove(chk)\n",
    "\n",
    "    clear_output()\n",
    "    show_form(update=True)\n",
    "\n",
    "\n",
    "\n",
    "c_tags = []\n",
    "tags_map = {}\n",
    "custom_tags = {}\n",
    "chk_map = {}\n",
    "def show_form(update=False):\n",
    "    n = 0\n",
    "    update_btn = widgets.Button(description='Update')\n",
    "    update_btn.on_click(update_chk_list)\n",
    "    display(update_btn)\n",
    "    for news in news_list[:5]:\n",
    "        df_news = pd.DataFrame(list(news.values()))\n",
    "        container = widgets.Box()\n",
    "\n",
    "        d = df_news.to_html(escape=False, header=False, index = False)\n",
    "\n",
    "        br = widgets.HTML(\"---------------------------------------------\")\n",
    "        news_info = '{0} <a href=\"{1}\" target=\"_blank\">link</a>'.format(news[u'標題'].encode('utf-8'), news[u'網址'])\n",
    "        link = widgets.HTML(news_info.decode('utf-8'))\n",
    "        news_id = news[u'id']\n",
    "        news_title = news[u'標題']\n",
    "\n",
    "        \n",
    "\n",
    "        form = widgets.VBox()\n",
    "        custom_tag = widgets.Text(description=u\"自訂tag:\", value=\"\")\n",
    "\n",
    "        words = word_seg(news[u'內容'], 10)\n",
    "        chk_list = []\n",
    "        if update == False:\n",
    "            for word in words:\n",
    "                chk = widgets.Checkbox(description=word, value=True)\n",
    "                chk_list.append(chk)\n",
    "        else:\n",
    "            for chk_tag in chk_map[news_id]:\n",
    "                chk = widgets.Checkbox(description=chk_tag.description, value=True)\n",
    "                chk_list.append(chk)\n",
    "            \n",
    "        c_tags.append(custom_tag)\n",
    "        \n",
    "        if len(custom_tags) > 0 and len(custom_tags[news_id]) > 0:\n",
    "            print custom_tags[news_id]\n",
    "            for tag in custom_tags[news_id]:\n",
    "                if len(tag) > 0:\n",
    "                    chk = widgets.Checkbox(description=tag, value=True)\n",
    "                    chk_list.append(chk)\n",
    "            \n",
    "        n += 1\n",
    "        \n",
    "        tags_map[custom_tag.model_id] = {'id': news_id, 'title':news_title}\n",
    "\n",
    "        container = widgets.VBox(children=[br,link,custom_tag])\n",
    "        container_chk = widgets.VBox(children=chk_list)\n",
    "        chk_map[news_id] = chk_list\n",
    "        display(container)\n",
    "        display(container_chk)\n",
    "        \n",
    "show_form()"
   ]
  },
  {
   "cell_type": "code",
   "execution_count": 12,
   "metadata": {
    "extensions": {
     "jupyter_dashboards": {
      "version": 1,
      "views": {
       "grid_default": {
        "col": 8,
        "height": 144,
        "hidden": false,
        "row": 0,
        "width": 4
       },
       "report_default": {}
      }
     }
    },
    "scrolled": false
   },
   "outputs": [
    {
     "name": "stdout",
     "output_type": "stream",
     "text": [
      "坐在雲端上吃安格斯牛！台北最高的「吃到飽」餐廳開幕\n",
      "台北 True\n",
      "提供 True\n",
      "酒店 True\n",
      "餐廳 True\n",
      "選擇 True\n",
      "自助餐 True\n",
      "盎司 True\n",
      "----\n",
      "愛學人...中國人微博發起「向台灣道歉」大賽回擊\n",
      "我們 True\n",
      "網友 True\n",
      "微博 True\n",
      "發起 True\n",
      "第一屆 True\n",
      "歉大賽 True\n",
      "不起 True\n",
      "GDP True\n",
      "----\n",
      "朱立倫抱怨 颱風讓他無法扮演好爸爸\n",
      "角色 True\n",
      "平等 True\n",
      "爸爸 True\n",
      "市府 True\n",
      "提前 True\n",
      "朱立倫 True\n",
      "颱風 True\n",
      "需要 True\n",
      "必須 True\n",
      "德國 True\n",
      "----\n",
      "顛覆農業刻板印象！他靠自學種出蔬果價值\n",
      "遠見 True\n",
      "雜誌 True\n",
      "... True\n",
      "文章 True\n",
      "會員 True\n",
      "訂閱 True\n",
      "服務 True\n",
      "健康 True\n",
      "產業 True\n",
      "台灣 True\n",
      "----\n",
      "風評：又是遊覽車！台灣人還敢講品質嗎？\n",
      "遊覽車 True\n",
      "業者 True\n",
      "台灣 True\n",
      "陸客 True\n",
      "兩岸 True\n",
      "觀光 True\n",
      "台灣人 True\n",
      "----\n"
     ]
    }
   ],
   "source": [
    "for news in news_list[:5]:\n",
    "    print news[u'標題']\n",
    "    news_id = news[u'id']\n",
    "    for chk in chk_map[news_id]:\n",
    "        print chk.description, chk.value \n",
    "    print '----'\n"
   ]
  }
 ],
 "metadata": {
  "celltoolbar": "Raw Cell Format",
  "extensions": {
   "jupyter_dashboards": {
    "activeView": "grid_default",
    "version": 1,
    "views": {
     "grid_default": {
      "cellMargin": 10,
      "defaultCellHeight": 20,
      "maxColumns": 12,
      "name": "grid",
      "type": "grid"
     },
     "report_default": {
      "name": "report",
      "type": "report"
     }
    }
   }
  },
  "kernelspec": {
   "display_name": "Python 2",
   "language": "python",
   "name": "python2"
  },
  "language_info": {
   "codemirror_mode": {
    "name": "ipython",
    "version": 2
   },
   "file_extension": ".py",
   "mimetype": "text/x-python",
   "name": "python",
   "nbconvert_exporter": "python",
   "pygments_lexer": "ipython2",
   "version": "2.7.8"
  }
 },
 "nbformat": 4,
 "nbformat_minor": 1
}
