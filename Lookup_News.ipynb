{
 "cells": [
  {
   "cell_type": "markdown",
   "metadata": {},
   "source": [
    "#執行\n",
    "> Cell -> Run All\n",
    "\n",
    "#重啟\n",
    "> Kernel -> Restart"
   ]
  },
  {
   "cell_type": "code",
   "execution_count": 1,
   "metadata": {},
   "outputs": [
    {
     "name": "stderr",
     "output_type": "stream",
     "text": [
      "/usr/local/lib/python2.7/site-packages/IPython/html.py:14: ShimWarning: The `IPython.html` package has been deprecated since IPython 4.0. You should import from `notebook` instead. `IPython.html.widgets` has moved to `ipywidgets`.\n",
      "  \"`IPython.html.widgets` has moved to `ipywidgets`.\", ShimWarning)\n"
     ]
    },
    {
     "data": {
      "application/vnd.jupyter.widget-view+json": {
       "model_id": "c17572387bc74ff78b82b091b6c1874f",
       "version_major": 2,
       "version_minor": 0
      },
      "text/html": [
       "<p>Failed to display Jupyter Widget of type <code>Box</code>.</p>\n",
       "<p>\n",
       "  If you're reading this message in Jupyter Notebook or JupyterLab, it may mean\n",
       "  that the widgets JavaScript is still loading. If this message persists, it\n",
       "  likely means that the widgets JavaScript library is either not installed or\n",
       "  not enabled. See the <a href=\"https://ipywidgets.readthedocs.io/en/stable/user_install.html\">Jupyter\n",
       "  Widgets Documentation</a> for setup instructions.\n",
       "</p>\n",
       "<p>\n",
       "  If you're reading this message in another notebook frontend (for example, a static\n",
       "  rendering on GitHub or <a href=\"https://nbviewer.jupyter.org/\">NBViewer</a>),\n",
       "  it may mean that your frontend doesn't currently support widgets.\n",
       "</p>\n"
      ],
      "text/plain": [
       "Box(children=(HTML(value=u'<h1>\\u65b0\\u805e\\u7db2\\u7ad9\\u91cd\\u8907\\u67e5\\u8a62</h1><br><h5>\\u8acb\\u8f38\\u5165\\u65b0\\u805e\\u7db2\\u7ad9\\u540d\\u7a31:</h5>'), Text(value=u''), Button(description=u'SEARCH', style=ButtonStyle()), Button(description=u'CLEAR', style=ButtonStyle())))"
      ]
     },
     "metadata": {},
     "output_type": "display_data"
    }
   ],
   "source": [
    "from IPython.display import display, HTML\n",
    "import pandas as pd\n",
    "import MySQLdb\n",
    "db_check = MySQLdb.connect(host=\"118.163.94.26\", # your host, usually localhost\n",
    "                     user=\"joekaojoekao\", # your username\n",
    "                     passwd=\"iloveinalin\", # your password\n",
    "                     db=\"social_data\",\n",
    "                     charset='utf8') # name of the data base\n",
    "cur = db_check.cursor()\n",
    "from IPython.html import widgets\n",
    "from IPython.display import display\n",
    "from IPython.display import clear_output\n",
    "form = widgets.Box()\n",
    "info = widgets.HTML(value=u\"<h1>新聞網站重複查詢</h1><br><h5>請輸入新聞網站名稱:</h5>\")\n",
    "INPUT = widgets.Text(value=\"\")\n",
    "SEARCH = widgets.Button(description='SEARCH')\n",
    "CLEAR = widgets.Button(description='CLEAR')\n",
    "data = None\n",
    "def SEARCH_btn(x):\n",
    "    clear_output()\n",
    "    data = INPUT.value.encode('utf-8')\n",
    "    search_sql = \"SELECT * FROM sitename WHERE sitename = '%s' OR website = '%s' limit 1\" % (data, data)\n",
    "    \n",
    "    fuzzy_sql = \"SELECT * FROM sitename WHERE sitename LIKE '%%%s%%'  OR website LIKE '%%%s%%'\" % (data, data)\n",
    "    cur.execute(search_sql)\n",
    "    search_len = len(cur.fetchall())\n",
    "    cur.execute(fuzzy_sql)\n",
    "    fuzzy = cur.fetchall()\n",
    "    print u\"查詢: \" + data.decode('utf-8')\n",
    "    print u\"結果: \"\n",
    "    #print u\"\\tX 已存在，不需加入資料庫\" if a > 0 or b > 0 else u\"\\tO 未重複，可以加入資料庫\"\n",
    "    if search_len > 0:\n",
    "        print u\"X 已存在，不需加入資料庫\"\n",
    "    elif len(fuzzy) > 0:\n",
    "        print u\"% 你是不是在找:\"\n",
    "        #print u\"名稱\\t\\t網站\\t\\t網址\"\n",
    "        result = [(x[1], x[6], x[7]) for x in fuzzy]\n",
    "        df = pd.DataFrame(result)\n",
    "        df.columns = [u'名稱', u'網站', u'網址']\n",
    "        display(df)\n",
    "        #for row in fuzzy:\n",
    "            #print row[1],'\\t\\t', row[6],'\\t\\t', row[7]\n",
    "    else:\n",
    "        print u\"O 未重複，可以加入資料庫\"\n",
    "    \n",
    "def CLEAR_btn(x):\n",
    "    clear_output()\n",
    "    data = None\n",
    "    \n",
    "SEARCH.on_click(SEARCH_btn)\n",
    "CLEAR.on_click(CLEAR_btn)\n",
    "form.children = [info, INPUT, SEARCH, CLEAR]\n",
    "display(form)\n"
   ]
  }
 ],
 "metadata": {
  "kernelspec": {
   "display_name": "Python 2",
   "language": "python",
   "name": "python2"
  },
  "language_info": {
   "codemirror_mode": {
    "name": "ipython",
    "version": 2
   },
   "file_extension": ".py",
   "mimetype": "text/x-python",
   "name": "python",
   "nbconvert_exporter": "python",
   "pygments_lexer": "ipython2",
   "version": "2.7.8"
  }
 },
 "nbformat": 4,
 "nbformat_minor": 1
}
